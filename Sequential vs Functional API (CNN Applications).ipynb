{
 "cells": [
  {
   "cell_type": "code",
   "execution_count": 58,
   "metadata": {
    "deletable": false,
    "editable": false,
    "scrolled": true
   },
   "outputs": [],
   "source": [
    "### v1.1"
   ]
  },
  {
   "cell_type": "code",
   "execution_count": 59,
   "metadata": {
    "scrolled": true
   },
   "outputs": [],
   "source": [
    "# Importing the necessary packages\n",
    "\n",
    "import math\n",
    "import numpy as np\n",
    "import h5py\n",
    "import matplotlib.pyplot as plt\n",
    "from matplotlib.pyplot import imread\n",
    "import scipy\n",
    "from PIL import Image\n",
    "import pandas as pd\n",
    "import tensorflow as tf\n",
    "import tensorflow.keras.layers as tfl\n",
    "from tensorflow.python.framework import ops\n",
    "from cnn_utils import *\n",
    "from test_utils import summary, comparator\n",
    "\n",
    "%matplotlib inline\n",
    "np.random.seed(1)"
   ]
  },
  {
   "cell_type": "markdown",
   "metadata": {},
   "source": [
    "### Loading and Splitting the data"
   ]
  },
  {
   "cell_type": "code",
   "execution_count": 60,
   "metadata": {
    "scrolled": true
   },
   "outputs": [],
   "source": [
    "# The task is to build a ConvNet to determine whether the people in the images are smiling or not"
   ]
  },
  {
   "cell_type": "code",
   "execution_count": 61,
   "metadata": {
    "scrolled": true
   },
   "outputs": [
    {
     "name": "stdout",
     "output_type": "stream",
     "text": [
      "number of training examples = 600\n",
      "number of test examples = 150\n",
      "X_train shape: (600, 64, 64, 3)\n",
      "Y_train shape: (600, 1)\n",
      "X_test shape: (150, 64, 64, 3)\n",
      "Y_test shape: (150, 1)\n"
     ]
    }
   ],
   "source": [
    "X_train_orig, Y_train_orig, X_test_orig, Y_test_orig, classes = load_happy_dataset()\n",
    "\n",
    "# Normalize image vectors\n",
    "X_train = X_train_orig/255.\n",
    "X_test = X_test_orig/255.\n",
    "\n",
    "# Reshape\n",
    "Y_train = Y_train_orig.T\n",
    "Y_test = Y_test_orig.T\n",
    "\n",
    "print (\"number of training examples = \" + str(X_train.shape[0]))\n",
    "print (\"number of test examples = \" + str(X_test.shape[0]))\n",
    "print (\"X_train shape: \" + str(X_train.shape))\n",
    "print (\"Y_train shape: \" + str(Y_train.shape))\n",
    "print (\"X_test shape: \" + str(X_test.shape))\n",
    "print (\"Y_test shape: \" + str(Y_test.shape))"
   ]
  },
  {
   "cell_type": "code",
   "execution_count": 62,
   "metadata": {
    "scrolled": true
   },
   "outputs": [
    {
     "data": {
      "image/png": "[encoded data removed]",
      "text/plain": [
       "<Figure size 432x288 with 1 Axes>"
      ]
     },
     "metadata": {
      "needs_background": "light"
     },
     "output_type": "display_data"
    }
   ],
   "source": [
    "#display sample training image\n",
    "\n",
    "index = 124\n",
    "plt.imshow(X_train_orig[index])\n",
    "plt.show()"
   ]
  },
  {
   "cell_type": "markdown",
   "metadata": {},
   "source": [
    "### The Sequential API"
   ]
  },
  {
   "cell_type": "code",
   "execution_count": 63,
   "metadata": {
    "deletable": false,
    "nbgrader": {
     "cell_type": "code",
     "checksum": "95d28b191f257bdd5b70c7b8952559d5",
     "grade": false,
     "grade_id": "cell-0e56d3fc28b69aec",
     "locked": false,
     "schema_version": 3,
     "solution": true,
     "task": false
    },
    "scrolled": true
   },
   "outputs": [],
   "source": [
    "# GRADED FUNCTION: happyModel\n",
    "\n",
    "def happyModel():\n",
    "    \"\"\"\n",
    "    Implements the forward propagation for the binary classification model:\n",
    "    ZEROPAD2D -> CONV2D -> BATCHNORM -> RELU -> MAXPOOL -> FLATTEN -> DENSE\n",
    "    \n",
    "    Note that for simplicity and grading purposes, you'll hard-code all the values\n",
    "    such as the stride and kernel (filter) sizes. \n",
    "    Normally, functions should take these values as function parameters.\n",
    "    \n",
    "    Arguments:\n",
    "    None\n",
    "\n",
    "    Returns:\n",
    "    model -- TF Keras model (object containing the information for the entire training process) \n",
    "    \"\"\"\n",
    "    model = tf.keras.Sequential([\n",
    "            ## ZeroPadding2D with padding 3, input shape of 64 x 64 x 3\n",
    "            tfl.ZeroPadding2D(padding = 3, input_shape = (64,64,3)),\n",
    "            # In TensorFlow Keras model, we specify the 'input_shape' parameter only for the first layer\n",
    "        \n",
    "            ## Conv2D with 32 7x7 filters and stride of 1\n",
    "            tfl.Conv2D(filters=32, kernel_size=7,strides=1),\n",
    "            ## BatchNormalization for axis 3\n",
    "            tfl.BatchNormalization(axis = 3),\n",
    "            # In BatchNormalization, the 'axis' parameter works differently than the 'axis' parameter in np.sum()\n",
    "            # While the idea of applying Batch Normalization before Convolutional layers to normalize inputs might seem logical,\n",
    "            # the established and empirically validated practice is to apply Batch Normalization after Convolutional layers and \n",
    "            # before activation functions.\n",
    "        \n",
    "            # Applying BatchNormalization before the non-linear activation function ensures that the inputs to the \n",
    "            # activation functions have a mean close to 0 and a reduced variance, making the activation outputs more stable.\n",
    "\n",
    "            ## ReLU\n",
    "            tfl.ReLU(),\n",
    "            ## Max Pooling 2D with default parameters\n",
    "            tfl.MaxPooling2D(),\n",
    "            ## Flatten layer\n",
    "            tfl.Flatten(),\n",
    "            ## Dense layer with 1 unit for output & 'sigmoid' activation\n",
    "            tfl.Dense(units=1, activation='sigmoid')\n",
    "            # YOUR CODE STARTS HERE\n",
    "            \n",
    "            \n",
    "            # YOUR CODE ENDS HERE\n",
    "        ])\n",
    "    \n",
    "    return model\n",
    "\n",
    "# Note\n",
    "\n",
    "# In the case of batch normalization of neural networks where the data is of the form (m,n) where m is the number of \n",
    "# training examples and n is the number of features, the first feature interacts with the first hidden unit. \n",
    "# If we fix the mean of the first feature of all training examxples to some value, then the first hidden unit will keep \n",
    "# seeing and interacting with the same distribution and the first hidden unit can learn efficiently.\n",
    "\n",
    "# We don't normalize each training example because network might struggle to learn meaningful distinctions between examples.\n",
    "# While normalizing each example might preserve relative differences within that example, it can distort the \n",
    "# absolute differences between examples. In many learning tasks, these absolute differences are crucial for the model to \n",
    "# identify patterns and make accurate predictions.\n",
    "\n",
    "# In the case of batch normalization of neural networks where the data is of the form (m,n) where m is the number of \n",
    "# training examples and n is the number of features, when we batch normalize it along axis = 1, it is different than \n",
    "# np.sum(axis = 1). In np.sum(axis=1), the axis=1 dimension is broken down. Whereas in batch_normalization(axis = 1), only the\n",
    "# axis = 1 direction is preserved.\n",
    "\n",
    "# In the case of batch normalization of CNN where input data is of shape (m, n_h, n_w, n_c=3) and axis = 3, then \n",
    "# batch normalization is carried out along the layers n_c direction. It is carried in such a way that the mean and variance of \n",
    "# the first layer of all training examples is fixed. The mean and variance of the second layer of all training examples is \n",
    "# fixed and the mean and variance of the third layer of all training examples is fixed.\n",
    "\n",
    "# How does Batch Normalization along axis = 3 help in efficient learning of weights. Why not axis = 0 or 1 or 2?\n",
    "# If we do the batch_normalization along axis = 2, it would not make sense because the filter is slided over the input layer.\n",
    "# So each weight of each layer of the filter would interact with different distributions. Similary for axis = 1, each weight\n",
    "# of each layer of the filter would interact with different distributions. But when axis = 3, the weights of a particular layer\n",
    "# of filter would interact with the same distribution. When the layer of filter changes, the distribution changes.\n",
    "\n",
    "# Batch Normalization in CNN is also not done along axis=0 because in that case we are normalizing each training example. \n",
    "# Though the weights of a particular layer of filter would interact with the same distribution and also each layer of filter \n",
    "# would interact with the same distribution, we are fixing the mean and variance of each training example which is not\n",
    "# beneficial as discussed earlier."
   ]
  },
  {
   "cell_type": "code",
   "execution_count": 64,
   "metadata": {
    "deletable": false,
    "editable": false,
    "nbgrader": {
     "cell_type": "code",
     "checksum": "8d3575c950e2e78149be2d05d671c80d",
     "grade": true,
     "grade_id": "cell-e3e1046e5c33d775",
     "locked": true,
     "points": 10,
     "schema_version": 3,
     "solution": false,
     "task": false
    },
    "scrolled": true
   },
   "outputs": [
    {
     "name": "stdout",
     "output_type": "stream",
     "text": [
      "['ZeroPadding2D', (None, 70, 70, 3), 0, ((3, 3), (3, 3))]\n",
      "['Conv2D', (None, 64, 64, 32), 4736, 'valid', 'linear', 'GlorotUniform']\n",
      "['BatchNormalization', (None, 64, 64, 32), 128]\n",
      "['ReLU', (None, 64, 64, 32), 0]\n",
      "['MaxPooling2D', (None, 32, 32, 32), 0, (2, 2), (2, 2), 'valid']\n",
      "['Flatten', (None, 32768), 0]\n",
      "['Dense', (None, 1), 32769, 'sigmoid']\n",
      "\u001b[32mAll tests passed!\u001b[0m\n"
     ]
    }
   ],
   "source": [
    "happy_model = happyModel()\n",
    "# Print a summary for each layer\n",
    "for layer in summary(happy_model):\n",
    "    print(layer)\n",
    "    \n",
    "output = [['ZeroPadding2D', (None, 70, 70, 3), 0, ((3, 3), (3, 3))],\n",
    "            ['Conv2D', (None, 64, 64, 32), 4736, 'valid', 'linear', 'GlorotUniform'],\n",
    "            ['BatchNormalization', (None, 64, 64, 32), 128],\n",
    "            ['ReLU', (None, 64, 64, 32), 0],\n",
    "            ['MaxPooling2D', (None, 32, 32, 32), 0, (2, 2), (2, 2), 'valid'],\n",
    "            ['Flatten', (None, 32768), 0],\n",
    "            ['Dense', (None, 1), 32769, 'sigmoid']]\n",
    "    \n",
    "comparator(summary(happy_model), output)"
   ]
  },
  {
   "cell_type": "code",
   "execution_count": 65,
   "metadata": {
    "scrolled": true
   },
   "outputs": [],
   "source": [
    "happy_model.compile(optimizer='adam',\n",
    "                   loss='binary_crossentropy',\n",
    "                   metrics=['accuracy'])"
   ]
  },
  {
   "cell_type": "code",
   "execution_count": 66,
   "metadata": {
    "scrolled": false
   },
   "outputs": [
    {
     "name": "stdout",
     "output_type": "stream",
     "text": [
      "Model: \"sequential_2\"\n",
      "_________________________________________________________________\n",
      "Layer (type)                 Output Shape              Param #   \n",
      "=================================================================\n",
      "zero_padding2d_2 (ZeroPaddin (None, 70, 70, 3)         0         \n",
      "_________________________________________________________________\n",
      "conv2d_6 (Conv2D)            (None, 64, 64, 32)        4736      \n",
      "_________________________________________________________________\n",
      "batch_normalization_2 (Batch (None, 64, 64, 32)        128       \n",
      "_________________________________________________________________\n",
      "re_lu_6 (ReLU)               (None, 64, 64, 32)        0         \n",
      "_________________________________________________________________\n",
      "max_pooling2d_6 (MaxPooling2 (None, 32, 32, 32)        0         \n",
      "_________________________________________________________________\n",
      "flatten_4 (Flatten)          (None, 32768)             0         \n",
      "_________________________________________________________________\n",
      "dense_4 (Dense)              (None, 1)                 32769     \n",
      "=================================================================\n",
      "Total params: 37,633\n",
      "Trainable params: 37,569\n",
      "Non-trainable params: 64\n",
      "_________________________________________________________________\n"
     ]
    }
   ],
   "source": [
    "happy_model.summary()"
   ]
  },
  {
   "cell_type": "markdown",
   "metadata": {},
   "source": [
    "### Training and Evaluation of Model"
   ]
  },
  {
   "cell_type": "code",
   "execution_count": 67,
   "metadata": {
    "scrolled": false
   },
   "outputs": [
    {
     "name": "stdout",
     "output_type": "stream",
     "text": [
      "Epoch 1/10\n",
      "38/38 [==============================] - 4s 97ms/step - loss: 1.2873 - accuracy: 0.6750\n",
      "Epoch 2/10\n",
      "38/38 [==============================] - 4s 95ms/step - loss: 0.2471 - accuracy: 0.9133\n",
      "Epoch 3/10\n",
      "38/38 [==============================] - 4s 95ms/step - loss: 0.1665 - accuracy: 0.9350\n",
      "Epoch 4/10\n",
      "38/38 [==============================] - 4s 95ms/step - loss: 0.2455 - accuracy: 0.9017\n",
      "Epoch 5/10\n",
      "38/38 [==============================] - 4s 95ms/step - loss: 0.1992 - accuracy: 0.9383\n",
      "Epoch 6/10\n",
      "38/38 [==============================] - 4s 95ms/step - loss: 0.1060 - accuracy: 0.9633\n",
      "Epoch 7/10\n",
      "38/38 [==============================] - 4s 95ms/step - loss: 0.0776 - accuracy: 0.9800\n",
      "Epoch 8/10\n",
      "38/38 [==============================] - 4s 95ms/step - loss: 0.0585 - accuracy: 0.9850\n",
      "Epoch 9/10\n",
      "38/38 [==============================] - 4s 95ms/step - loss: 0.0489 - accuracy: 0.9800\n",
      "Epoch 10/10\n",
      "38/38 [==============================] - 4s 97ms/step - loss: 0.1395 - accuracy: 0.9467\n"
     ]
    },
    {
     "data": {
      "text/plain": [
       "<tensorflow.python.keras.callbacks.History at 0x7f3bf67970d0>"
      ]
     },
     "execution_count": 67,
     "metadata": {},
     "output_type": "execute_result"
    }
   ],
   "source": [
    "happy_model.fit(X_train, Y_train, epochs=10, batch_size=16)"
   ]
  },
  {
   "cell_type": "code",
   "execution_count": 68,
   "metadata": {
    "scrolled": true
   },
   "outputs": [
    {
     "name": "stdout",
     "output_type": "stream",
     "text": [
      "5/5 [==============================] - 0s 38ms/step - loss: 0.4029 - accuracy: 0.8000\n"
     ]
    },
    {
     "data": {
      "text/plain": [
       "[0.4028966724872589, 0.800000011920929]"
      ]
     },
     "execution_count": 68,
     "metadata": {},
     "output_type": "execute_result"
    }
   ],
   "source": [
    "# Prints the 'binary_crossentropy' loss and the 'accuracy'\n",
    "\n",
    "happy_model.evaluate(X_test, Y_test)"
   ]
  },
  {
   "cell_type": "code",
   "execution_count": 69,
   "metadata": {
    "scrolled": true
   },
   "outputs": [],
   "source": [
    "# The 'Sequential' will not be able to help when we need to build a model with shared layers, branches, or \n",
    "# multiple inputs and outputs."
   ]
  },
  {
   "cell_type": "markdown",
   "metadata": {},
   "source": [
    "### The Functional API"
   ]
  },
  {
   "cell_type": "code",
   "execution_count": 70,
   "metadata": {
    "scrolled": true
   },
   "outputs": [],
   "source": [
    "# Loading the data (signs)\n",
    "X_train_orig, Y_train_orig, X_test_orig, Y_test_orig, classes = load_signs_dataset()"
   ]
  },
  {
   "cell_type": "code",
   "execution_count": 71,
   "metadata": {
    "scrolled": true
   },
   "outputs": [
    {
     "name": "stdout",
     "output_type": "stream",
     "text": [
      "(1080, 64, 64, 3)\n",
      "(120, 64, 64, 3)\n",
      "(1, 1080)\n",
      "(1, 120)\n"
     ]
    }
   ],
   "source": [
    "print(X_train_orig.shape)\n",
    "print(X_test_orig.shape)\n",
    "print(Y_train_orig.shape)\n",
    "print(Y_test_orig.shape)"
   ]
  },
  {
   "cell_type": "code",
   "execution_count": 72,
   "metadata": {
    "scrolled": true
   },
   "outputs": [
    {
     "name": "stdout",
     "output_type": "stream",
     "text": [
      "[[5 0 2 ... 2 4 5]]\n"
     ]
    }
   ],
   "source": [
    "print(Y_train_orig)"
   ]
  },
  {
   "cell_type": "code",
   "execution_count": 73,
   "metadata": {
    "scrolled": true
   },
   "outputs": [
    {
     "name": "stdout",
     "output_type": "stream",
     "text": [
      "y = 4\n"
     ]
    },
    {
     "data": {
      "image/png": "[encoded data removed]",
      "text/plain": [
       "<Figure size 432x288 with 1 Axes>"
      ]
     },
     "metadata": {
      "needs_background": "light"
     },
     "output_type": "display_data"
    }
   ],
   "source": [
    "# Example of an image from the dataset\n",
    "index = 9\n",
    "plt.imshow(X_train_orig[index])\n",
    "print (\"y = \" + str(np.squeeze(Y_train_orig[:, index])))"
   ]
  },
  {
   "cell_type": "code",
   "execution_count": 74,
   "metadata": {
    "scrolled": true
   },
   "outputs": [
    {
     "name": "stdout",
     "output_type": "stream",
     "text": [
      "number of training examples = 1080\n",
      "number of test examples = 120\n",
      "X_train shape: (1080, 64, 64, 3)\n",
      "Y_train shape: (1080, 6)\n",
      "X_test shape: (120, 64, 64, 3)\n",
      "Y_test shape: (120, 6)\n"
     ]
    }
   ],
   "source": [
    "X_train = X_train_orig/255.\n",
    "X_test = X_test_orig/255.\n",
    "Y_train = convert_to_one_hot(Y_train_orig, 6).T\n",
    "Y_test = convert_to_one_hot(Y_test_orig, 6).T\n",
    "print (\"number of training examples = \" + str(X_train.shape[0]))\n",
    "print (\"number of test examples = \" + str(X_test.shape[0]))\n",
    "print (\"X_train shape: \" + str(X_train.shape))\n",
    "print (\"Y_train shape: \" + str(Y_train.shape))\n",
    "print (\"X_test shape: \" + str(X_test.shape))\n",
    "print (\"Y_test shape: \" + str(Y_test.shape))"
   ]
  },
  {
   "cell_type": "code",
   "execution_count": 75,
   "metadata": {
    "deletable": false,
    "nbgrader": {
     "cell_type": "code",
     "checksum": "f58643806aa8380c96225fc8b4c5e7aa",
     "grade": false,
     "grade_id": "cell-dac51744a9e03f51",
     "locked": false,
     "schema_version": 3,
     "solution": true,
     "task": false
    },
    "scrolled": true
   },
   "outputs": [],
   "source": [
    "# GRADED FUNCTION: convolutional_model\n",
    "\n",
    "def convolutional_model(input_shape):\n",
    "    \"\"\"\n",
    "    Implements the forward propagation for the model:\n",
    "    CONV2D -> RELU -> MAXPOOL -> CONV2D -> RELU -> MAXPOOL -> FLATTEN -> DENSE\n",
    "    \n",
    "    Note that for simplicity and grading purposes, you'll hard-code some values\n",
    "    such as the stride and kernel (filter) sizes. \n",
    "    Normally, functions should take these values as function parameters.\n",
    "    \n",
    "    Arguments:\n",
    "    input_img -- input dataset, of shape (input_shape)\n",
    "\n",
    "    Returns:\n",
    "    model -- TF Keras model (object containing the information for the entire training process) \n",
    "    \"\"\"\n",
    "\n",
    "    input_img = tf.keras.Input(shape=input_shape)\n",
    "    # In the TensorFlow Keras Functional API, defining the first input layer using tf.keras.Input to specify the \n",
    "    # shape (and optionally, the data type) of the input data is a common practice.\n",
    "    ## CONV2D: 8 filters 4x4, stride of 1, padding 'SAME'\n",
    "    Z1 = tfl.Conv2D(filters=8, kernel_size=4,strides=1,padding='same')(input_img)\n",
    "    # When the padding is 'valid', no padding is applied. When the padding is 'same', padding is applied to maintain input size.\n",
    "    ## RELU\n",
    "    A1 = tfl.ReLU()(Z1)\n",
    "    ## MAXPOOL: window 8x8, stride 8, padding 'SAME'\n",
    "    P1 = tfl.MaxPooling2D(pool_size = 8,strides = 8,padding='same')(A1)\n",
    "    ## CONV2D: 16 filters 2x2, stride 1, padding 'SAME'\n",
    "    Z2 = tfl.Conv2D(filters=16, kernel_size=2,strides=1,padding='same')(P1)\n",
    "    ## RELU\n",
    "    A2 = tfl.ReLU()(Z2)\n",
    "    ## MAXPOOL: window 4x4, stride 4, padding 'SAME'\n",
    "    P2 = tfl.MaxPooling2D(pool_size = 4,strides = 4,padding='same')(A2)\n",
    "    ## FLATTEN\n",
    "    F = tfl.Flatten()(P2)\n",
    "    ## Dense layer\n",
    "    ## 6 neurons in output layer. Hint: one of the arguments should be \"activation='softmax'\" \n",
    "    outputs = tfl.Dense(units=6, activation='softmax')(F)\n",
    "    # YOUR CODE STARTS HERE\n",
    "    \n",
    "    \n",
    "    # YOUR CODE ENDS HERE\n",
    "    model = tf.keras.Model(inputs=input_img, outputs=outputs)\n",
    "    return model"
   ]
  },
  {
   "cell_type": "code",
   "execution_count": 76,
   "metadata": {
    "deletable": false,
    "editable": false,
    "nbgrader": {
     "cell_type": "code",
     "checksum": "483d626949930a0b0ef20997e7c6ba72",
     "grade": true,
     "grade_id": "cell-45d22e92042174c9",
     "locked": true,
     "points": 10,
     "schema_version": 3,
     "solution": false,
     "task": false
    },
    "scrolled": false
   },
   "outputs": [
    {
     "name": "stdout",
     "output_type": "stream",
     "text": [
      "Model: \"functional_5\"\n",
      "_________________________________________________________________\n",
      "Layer (type)                 Output Shape              Param #   \n",
      "=================================================================\n",
      "input_3 (InputLayer)         [(None, 64, 64, 3)]       0         \n",
      "_________________________________________________________________\n",
      "conv2d_7 (Conv2D)            (None, 64, 64, 8)         392       \n",
      "_________________________________________________________________\n",
      "re_lu_7 (ReLU)               (None, 64, 64, 8)         0         \n",
      "_________________________________________________________________\n",
      "max_pooling2d_7 (MaxPooling2 (None, 8, 8, 8)           0         \n",
      "_________________________________________________________________\n",
      "conv2d_8 (Conv2D)            (None, 8, 8, 16)          528       \n",
      "_________________________________________________________________\n",
      "re_lu_8 (ReLU)               (None, 8, 8, 16)          0         \n",
      "_________________________________________________________________\n",
      "max_pooling2d_8 (MaxPooling2 (None, 2, 2, 16)          0         \n",
      "_________________________________________________________________\n",
      "flatten_5 (Flatten)          (None, 64)                0         \n",
      "_________________________________________________________________\n",
      "dense_5 (Dense)              (None, 6)                 390       \n",
      "=================================================================\n",
      "Total params: 1,310\n",
      "Trainable params: 1,310\n",
      "Non-trainable params: 0\n",
      "_________________________________________________________________\n",
      "\u001b[32mAll tests passed!\u001b[0m\n"
     ]
    }
   ],
   "source": [
    "conv_model = convolutional_model((64, 64, 3))\n",
    "conv_model.compile(optimizer='adam',\n",
    "                  loss='categorical_crossentropy',\n",
    "                  metrics=['accuracy'])\n",
    "conv_model.summary()\n",
    "    \n",
    "output = [['InputLayer', [(None, 64, 64, 3)], 0],\n",
    "        ['Conv2D', (None, 64, 64, 8), 392, 'same', 'linear', 'GlorotUniform'],\n",
    "        ['ReLU', (None, 64, 64, 8), 0],\n",
    "        ['MaxPooling2D', (None, 8, 8, 8), 0, (8, 8), (8, 8), 'same'],\n",
    "        ['Conv2D', (None, 8, 8, 16), 528, 'same', 'linear', 'GlorotUniform'],\n",
    "        ['ReLU', (None, 8, 8, 16), 0],\n",
    "        ['MaxPooling2D', (None, 2, 2, 16), 0, (4, 4), (4, 4), 'same'],\n",
    "        ['Flatten', (None, 64), 0],\n",
    "        ['Dense', (None, 6), 390, 'softmax']]\n",
    "    \n",
    "comparator(summary(conv_model), output)"
   ]
  },
  {
   "cell_type": "code",
   "execution_count": 77,
   "metadata": {
    "scrolled": true
   },
   "outputs": [],
   "source": [
    "# Note\n",
    "\n",
    "# Both the Sequential and Functional APIs return a TF Keras model object. The only difference is how inputs are \n",
    "# handled inside the object model."
   ]
  },
  {
   "cell_type": "markdown",
   "metadata": {},
   "source": [
    "### Training the Model"
   ]
  },
  {
   "cell_type": "code",
   "execution_count": 78,
   "metadata": {
    "scrolled": true
   },
   "outputs": [
    {
     "name": "stdout",
     "output_type": "stream",
     "text": [
      "Epoch 1/100\n",
      "17/17 [==============================] - 2s 113ms/step - loss: 1.8306 - accuracy: 0.1694 - val_loss: 1.7904 - val_accuracy: 0.1833\n",
      "Epoch 2/100\n",
      "17/17 [==============================] - 2s 106ms/step - loss: 1.7927 - accuracy: 0.1602 - val_loss: 1.7864 - val_accuracy: 0.1833\n",
      "Epoch 3/100\n",
      "17/17 [==============================] - 2s 101ms/step - loss: 1.7868 - accuracy: 0.1787 - val_loss: 1.7818 - val_accuracy: 0.1917\n",
      "Epoch 4/100\n",
      "17/17 [==============================] - 2s 102ms/step - loss: 1.7811 - accuracy: 0.2194 - val_loss: 1.7718 - val_accuracy: 0.2083\n",
      "Epoch 5/100\n",
      "17/17 [==============================] - 2s 106ms/step - loss: 1.7735 - accuracy: 0.2417 - val_loss: 1.7633 - val_accuracy: 0.2333\n",
      "Epoch 6/100\n",
      "17/17 [==============================] - 2s 106ms/step - loss: 1.7641 - accuracy: 0.2731 - val_loss: 1.7542 - val_accuracy: 0.2750\n",
      "Epoch 7/100\n",
      "17/17 [==============================] - 2s 106ms/step - loss: 1.7541 - accuracy: 0.3426 - val_loss: 1.7422 - val_accuracy: 0.3583\n",
      "Epoch 8/100\n",
      "17/17 [==============================] - 2s 106ms/step - loss: 1.7423 - accuracy: 0.3454 - val_loss: 1.7274 - val_accuracy: 0.3583\n",
      "Epoch 9/100\n",
      "17/17 [==============================] - 2s 107ms/step - loss: 1.7270 - accuracy: 0.3620 - val_loss: 1.7108 - val_accuracy: 0.3583\n",
      "Epoch 10/100\n",
      "17/17 [==============================] - 2s 106ms/step - loss: 1.7097 - accuracy: 0.3602 - val_loss: 1.6911 - val_accuracy: 0.3833\n",
      "Epoch 11/100\n",
      "17/17 [==============================] - 2s 100ms/step - loss: 1.6876 - accuracy: 0.3861 - val_loss: 1.6669 - val_accuracy: 0.4083\n",
      "Epoch 12/100\n",
      "17/17 [==============================] - 2s 106ms/step - loss: 1.6578 - accuracy: 0.4074 - val_loss: 1.6315 - val_accuracy: 0.4500\n",
      "Epoch 13/100\n",
      "17/17 [==============================] - 2s 106ms/step - loss: 1.6220 - accuracy: 0.4269 - val_loss: 1.5910 - val_accuracy: 0.4167\n",
      "Epoch 14/100\n",
      "17/17 [==============================] - 2s 107ms/step - loss: 1.5851 - accuracy: 0.4519 - val_loss: 1.5516 - val_accuracy: 0.4500\n",
      "Epoch 15/100\n",
      "17/17 [==============================] - 2s 101ms/step - loss: 1.5456 - accuracy: 0.4593 - val_loss: 1.5105 - val_accuracy: 0.4500\n",
      "Epoch 16/100\n",
      "17/17 [==============================] - 2s 106ms/step - loss: 1.5049 - accuracy: 0.4611 - val_loss: 1.4669 - val_accuracy: 0.5000\n",
      "Epoch 17/100\n",
      "17/17 [==============================] - 2s 111ms/step - loss: 1.4649 - accuracy: 0.4731 - val_loss: 1.4232 - val_accuracy: 0.5167\n",
      "Epoch 18/100\n",
      "17/17 [==============================] - 2s 106ms/step - loss: 1.4256 - accuracy: 0.4898 - val_loss: 1.3854 - val_accuracy: 0.5250\n",
      "Epoch 19/100\n",
      "17/17 [==============================] - 2s 106ms/step - loss: 1.3869 - accuracy: 0.5046 - val_loss: 1.3473 - val_accuracy: 0.5167\n",
      "Epoch 20/100\n",
      "17/17 [==============================] - 2s 105ms/step - loss: 1.3484 - accuracy: 0.5194 - val_loss: 1.3104 - val_accuracy: 0.5417\n",
      "Epoch 21/100\n",
      "17/17 [==============================] - 2s 106ms/step - loss: 1.3129 - accuracy: 0.5296 - val_loss: 1.2758 - val_accuracy: 0.5417\n",
      "Epoch 22/100\n",
      "17/17 [==============================] - 2s 106ms/step - loss: 1.2796 - accuracy: 0.5454 - val_loss: 1.2432 - val_accuracy: 0.5583\n",
      "Epoch 23/100\n",
      "17/17 [==============================] - 2s 106ms/step - loss: 1.2465 - accuracy: 0.5593 - val_loss: 1.2115 - val_accuracy: 0.5667\n",
      "Epoch 24/100\n",
      "17/17 [==============================] - 2s 106ms/step - loss: 1.2148 - accuracy: 0.5852 - val_loss: 1.1809 - val_accuracy: 0.5667\n",
      "Epoch 25/100\n",
      "17/17 [==============================] - 2s 106ms/step - loss: 1.1832 - accuracy: 0.5833 - val_loss: 1.1469 - val_accuracy: 0.5500\n",
      "Epoch 26/100\n",
      "17/17 [==============================] - 2s 106ms/step - loss: 1.1523 - accuracy: 0.5898 - val_loss: 1.1143 - val_accuracy: 0.5583\n",
      "Epoch 27/100\n",
      "17/17 [==============================] - 2s 106ms/step - loss: 1.1221 - accuracy: 0.6074 - val_loss: 1.0854 - val_accuracy: 0.5750\n",
      "Epoch 28/100\n",
      "17/17 [==============================] - 2s 106ms/step - loss: 1.0919 - accuracy: 0.6259 - val_loss: 1.0590 - val_accuracy: 0.5667\n",
      "Epoch 29/100\n",
      "17/17 [==============================] - 2s 106ms/step - loss: 1.0645 - accuracy: 0.6370 - val_loss: 1.0314 - val_accuracy: 0.5833\n",
      "Epoch 30/100\n",
      "17/17 [==============================] - 2s 107ms/step - loss: 1.0372 - accuracy: 0.6546 - val_loss: 1.0038 - val_accuracy: 0.6250\n",
      "Epoch 31/100\n",
      "17/17 [==============================] - 2s 112ms/step - loss: 1.0114 - accuracy: 0.6667 - val_loss: 0.9798 - val_accuracy: 0.6250\n",
      "Epoch 32/100\n",
      "17/17 [==============================] - 2s 106ms/step - loss: 0.9870 - accuracy: 0.6694 - val_loss: 0.9561 - val_accuracy: 0.6333\n",
      "Epoch 33/100\n",
      "17/17 [==============================] - 2s 111ms/step - loss: 0.9611 - accuracy: 0.6824 - val_loss: 0.9326 - val_accuracy: 0.6333\n",
      "Epoch 34/100\n",
      "17/17 [==============================] - 2s 106ms/step - loss: 0.9361 - accuracy: 0.6843 - val_loss: 0.9091 - val_accuracy: 0.6750\n",
      "Epoch 35/100\n",
      "17/17 [==============================] - 2s 105ms/step - loss: 0.9122 - accuracy: 0.7028 - val_loss: 0.8875 - val_accuracy: 0.6667\n",
      "Epoch 36/100\n",
      "17/17 [==============================] - 2s 106ms/step - loss: 0.8896 - accuracy: 0.7148 - val_loss: 0.8685 - val_accuracy: 0.6833\n",
      "Epoch 37/100\n",
      "17/17 [==============================] - 2s 106ms/step - loss: 0.8689 - accuracy: 0.7269 - val_loss: 0.8516 - val_accuracy: 0.6750\n",
      "Epoch 38/100\n",
      "17/17 [==============================] - 2s 112ms/step - loss: 0.8509 - accuracy: 0.7343 - val_loss: 0.8357 - val_accuracy: 0.6750\n",
      "Epoch 39/100\n",
      "17/17 [==============================] - 2s 111ms/step - loss: 0.8339 - accuracy: 0.7417 - val_loss: 0.8207 - val_accuracy: 0.6750\n",
      "Epoch 40/100\n",
      "17/17 [==============================] - 2s 111ms/step - loss: 0.8168 - accuracy: 0.7444 - val_loss: 0.8067 - val_accuracy: 0.6917\n",
      "Epoch 41/100\n",
      "17/17 [==============================] - 2s 106ms/step - loss: 0.8013 - accuracy: 0.7491 - val_loss: 0.7913 - val_accuracy: 0.7000\n",
      "Epoch 42/100\n",
      "17/17 [==============================] - 2s 101ms/step - loss: 0.7862 - accuracy: 0.7537 - val_loss: 0.7786 - val_accuracy: 0.7000\n",
      "Epoch 43/100\n",
      "17/17 [==============================] - 2s 106ms/step - loss: 0.7723 - accuracy: 0.7583 - val_loss: 0.7654 - val_accuracy: 0.7000\n",
      "Epoch 44/100\n",
      "17/17 [==============================] - 2s 106ms/step - loss: 0.7589 - accuracy: 0.7620 - val_loss: 0.7536 - val_accuracy: 0.7000\n",
      "Epoch 45/100\n",
      "17/17 [==============================] - 2s 112ms/step - loss: 0.7458 - accuracy: 0.7657 - val_loss: 0.7427 - val_accuracy: 0.7083\n",
      "Epoch 46/100\n",
      "17/17 [==============================] - 2s 106ms/step - loss: 0.7342 - accuracy: 0.7704 - val_loss: 0.7310 - val_accuracy: 0.7083\n",
      "Epoch 47/100\n",
      "17/17 [==============================] - 2s 101ms/step - loss: 0.7221 - accuracy: 0.7713 - val_loss: 0.7191 - val_accuracy: 0.7333\n",
      "Epoch 48/100\n",
      "17/17 [==============================] - 2s 106ms/step - loss: 0.7104 - accuracy: 0.7741 - val_loss: 0.7092 - val_accuracy: 0.7167\n",
      "Epoch 49/100\n",
      "17/17 [==============================] - 2s 107ms/step - loss: 0.6989 - accuracy: 0.7806 - val_loss: 0.6979 - val_accuracy: 0.7250\n",
      "Epoch 50/100\n",
      "17/17 [==============================] - 2s 106ms/step - loss: 0.6886 - accuracy: 0.7852 - val_loss: 0.6882 - val_accuracy: 0.7417\n",
      "Epoch 51/100\n",
      "17/17 [==============================] - 2s 106ms/step - loss: 0.6774 - accuracy: 0.7880 - val_loss: 0.6782 - val_accuracy: 0.7417\n",
      "Epoch 52/100\n",
      "17/17 [==============================] - 2s 105ms/step - loss: 0.6674 - accuracy: 0.7861 - val_loss: 0.6689 - val_accuracy: 0.7417\n",
      "Epoch 53/100\n",
      "17/17 [==============================] - 2s 106ms/step - loss: 0.6574 - accuracy: 0.7917 - val_loss: 0.6583 - val_accuracy: 0.7583\n",
      "Epoch 54/100\n",
      "17/17 [==============================] - 2s 106ms/step - loss: 0.6478 - accuracy: 0.8000 - val_loss: 0.6497 - val_accuracy: 0.7667\n",
      "Epoch 55/100\n",
      "17/17 [==============================] - 2s 106ms/step - loss: 0.6382 - accuracy: 0.8028 - val_loss: 0.6399 - val_accuracy: 0.7667\n",
      "Epoch 56/100\n",
      "17/17 [==============================] - 2s 106ms/step - loss: 0.6291 - accuracy: 0.8046 - val_loss: 0.6311 - val_accuracy: 0.7667\n",
      "Epoch 57/100\n",
      "17/17 [==============================] - 2s 106ms/step - loss: 0.6200 - accuracy: 0.8056 - val_loss: 0.6232 - val_accuracy: 0.7667\n",
      "Epoch 58/100\n",
      "17/17 [==============================] - 2s 106ms/step - loss: 0.6107 - accuracy: 0.8019 - val_loss: 0.6159 - val_accuracy: 0.7667\n",
      "Epoch 59/100\n",
      "17/17 [==============================] - 2s 111ms/step - loss: 0.6005 - accuracy: 0.8056 - val_loss: 0.6088 - val_accuracy: 0.7667\n",
      "Epoch 60/100\n",
      "17/17 [==============================] - 2s 106ms/step - loss: 0.5904 - accuracy: 0.8074 - val_loss: 0.6024 - val_accuracy: 0.7667\n",
      "Epoch 61/100\n",
      "17/17 [==============================] - 2s 102ms/step - loss: 0.5811 - accuracy: 0.8120 - val_loss: 0.5952 - val_accuracy: 0.7583\n",
      "Epoch 62/100\n",
      "17/17 [==============================] - 2s 106ms/step - loss: 0.5719 - accuracy: 0.8157 - val_loss: 0.5888 - val_accuracy: 0.7667\n",
      "Epoch 63/100\n",
      "17/17 [==============================] - 2s 106ms/step - loss: 0.5628 - accuracy: 0.8176 - val_loss: 0.5830 - val_accuracy: 0.7667\n",
      "Epoch 64/100\n",
      "17/17 [==============================] - 2s 101ms/step - loss: 0.5540 - accuracy: 0.8231 - val_loss: 0.5773 - val_accuracy: 0.7833\n",
      "Epoch 65/100\n",
      "17/17 [==============================] - 2s 106ms/step - loss: 0.5456 - accuracy: 0.8250 - val_loss: 0.5707 - val_accuracy: 0.7750\n",
      "Epoch 66/100\n",
      "17/17 [==============================] - 2s 106ms/step - loss: 0.5380 - accuracy: 0.8306 - val_loss: 0.5657 - val_accuracy: 0.7833\n",
      "Epoch 67/100\n",
      "17/17 [==============================] - 2s 106ms/step - loss: 0.5308 - accuracy: 0.8343 - val_loss: 0.5594 - val_accuracy: 0.7833\n",
      "Epoch 68/100\n",
      "17/17 [==============================] - 2s 100ms/step - loss: 0.5235 - accuracy: 0.8343 - val_loss: 0.5533 - val_accuracy: 0.7833\n",
      "Epoch 69/100\n",
      "17/17 [==============================] - 2s 101ms/step - loss: 0.5161 - accuracy: 0.8389 - val_loss: 0.5473 - val_accuracy: 0.7917\n",
      "Epoch 70/100\n",
      "17/17 [==============================] - 2s 106ms/step - loss: 0.5090 - accuracy: 0.8407 - val_loss: 0.5423 - val_accuracy: 0.8000\n",
      "Epoch 71/100\n",
      "17/17 [==============================] - 2s 106ms/step - loss: 0.5023 - accuracy: 0.8463 - val_loss: 0.5370 - val_accuracy: 0.8000\n",
      "Epoch 72/100\n",
      "17/17 [==============================] - 2s 101ms/step - loss: 0.4959 - accuracy: 0.8463 - val_loss: 0.5321 - val_accuracy: 0.8000\n",
      "Epoch 73/100\n",
      "17/17 [==============================] - 2s 108ms/step - loss: 0.4896 - accuracy: 0.8491 - val_loss: 0.5268 - val_accuracy: 0.8000\n",
      "Epoch 74/100\n",
      "17/17 [==============================] - 2s 106ms/step - loss: 0.4834 - accuracy: 0.8528 - val_loss: 0.5217 - val_accuracy: 0.8000\n",
      "Epoch 75/100\n",
      "17/17 [==============================] - 2s 106ms/step - loss: 0.4776 - accuracy: 0.8546 - val_loss: 0.5171 - val_accuracy: 0.8000\n",
      "Epoch 76/100\n",
      "17/17 [==============================] - 2s 106ms/step - loss: 0.4721 - accuracy: 0.8565 - val_loss: 0.5129 - val_accuracy: 0.8000\n",
      "Epoch 77/100\n",
      "17/17 [==============================] - 2s 106ms/step - loss: 0.4664 - accuracy: 0.8593 - val_loss: 0.5092 - val_accuracy: 0.8000\n",
      "Epoch 78/100\n",
      "17/17 [==============================] - 2s 106ms/step - loss: 0.4614 - accuracy: 0.8611 - val_loss: 0.5063 - val_accuracy: 0.8000\n",
      "Epoch 79/100\n",
      "17/17 [==============================] - 2s 106ms/step - loss: 0.4559 - accuracy: 0.8630 - val_loss: 0.5041 - val_accuracy: 0.8000\n",
      "Epoch 80/100\n",
      "17/17 [==============================] - 2s 100ms/step - loss: 0.4506 - accuracy: 0.8667 - val_loss: 0.5005 - val_accuracy: 0.8000\n",
      "Epoch 81/100\n",
      "17/17 [==============================] - 2s 106ms/step - loss: 0.4456 - accuracy: 0.8694 - val_loss: 0.4975 - val_accuracy: 0.8083\n",
      "Epoch 82/100\n",
      "17/17 [==============================] - 2s 100ms/step - loss: 0.4405 - accuracy: 0.8722 - val_loss: 0.4944 - val_accuracy: 0.8083\n",
      "Epoch 83/100\n",
      "17/17 [==============================] - 2s 106ms/step - loss: 0.4357 - accuracy: 0.8722 - val_loss: 0.4915 - val_accuracy: 0.8083\n",
      "Epoch 84/100\n",
      "17/17 [==============================] - 2s 107ms/step - loss: 0.4313 - accuracy: 0.8704 - val_loss: 0.4884 - val_accuracy: 0.8083\n",
      "Epoch 85/100\n",
      "17/17 [==============================] - 2s 106ms/step - loss: 0.4270 - accuracy: 0.8704 - val_loss: 0.4858 - val_accuracy: 0.8083\n",
      "Epoch 86/100\n",
      "17/17 [==============================] - 2s 106ms/step - loss: 0.4228 - accuracy: 0.8694 - val_loss: 0.4827 - val_accuracy: 0.8083\n",
      "Epoch 87/100\n",
      "17/17 [==============================] - 2s 106ms/step - loss: 0.4184 - accuracy: 0.8713 - val_loss: 0.4799 - val_accuracy: 0.8167\n",
      "Epoch 88/100\n",
      "17/17 [==============================] - 2s 106ms/step - loss: 0.4146 - accuracy: 0.8704 - val_loss: 0.4778 - val_accuracy: 0.8167\n",
      "Epoch 89/100\n",
      "17/17 [==============================] - 2s 111ms/step - loss: 0.4104 - accuracy: 0.8704 - val_loss: 0.4750 - val_accuracy: 0.8250\n",
      "Epoch 90/100\n",
      "17/17 [==============================] - 2s 106ms/step - loss: 0.4063 - accuracy: 0.8722 - val_loss: 0.4715 - val_accuracy: 0.8167\n",
      "Epoch 91/100\n",
      "17/17 [==============================] - 2s 106ms/step - loss: 0.4024 - accuracy: 0.8741 - val_loss: 0.4694 - val_accuracy: 0.8250\n",
      "Epoch 92/100\n",
      "17/17 [==============================] - 2s 106ms/step - loss: 0.3988 - accuracy: 0.8750 - val_loss: 0.4670 - val_accuracy: 0.8250\n",
      "Epoch 93/100\n",
      "17/17 [==============================] - 2s 101ms/step - loss: 0.3952 - accuracy: 0.8759 - val_loss: 0.4641 - val_accuracy: 0.8250\n",
      "Epoch 94/100\n",
      "17/17 [==============================] - 2s 100ms/step - loss: 0.3917 - accuracy: 0.8750 - val_loss: 0.4620 - val_accuracy: 0.8250\n",
      "Epoch 95/100\n",
      "17/17 [==============================] - 2s 101ms/step - loss: 0.3884 - accuracy: 0.8750 - val_loss: 0.4604 - val_accuracy: 0.8250\n",
      "Epoch 96/100\n",
      "17/17 [==============================] - 2s 106ms/step - loss: 0.3851 - accuracy: 0.8759 - val_loss: 0.4586 - val_accuracy: 0.8250\n",
      "Epoch 97/100\n",
      "17/17 [==============================] - 2s 106ms/step - loss: 0.3816 - accuracy: 0.8759 - val_loss: 0.4562 - val_accuracy: 0.8250\n",
      "Epoch 98/100\n",
      "17/17 [==============================] - 2s 106ms/step - loss: 0.3785 - accuracy: 0.8759 - val_loss: 0.4538 - val_accuracy: 0.8250\n",
      "Epoch 99/100\n",
      "17/17 [==============================] - 2s 106ms/step - loss: 0.3757 - accuracy: 0.8759 - val_loss: 0.4527 - val_accuracy: 0.8250\n",
      "Epoch 100/100\n",
      "17/17 [==============================] - 2s 106ms/step - loss: 0.3730 - accuracy: 0.8769 - val_loss: 0.4513 - val_accuracy: 0.8250\n"
     ]
    }
   ],
   "source": [
    "train_dataset = tf.data.Dataset.from_tensor_slices((X_train, Y_train)).batch(64)\n",
    "test_dataset = tf.data.Dataset.from_tensor_slices((X_test, Y_test)).batch(64)\n",
    "history = conv_model.fit(train_dataset, epochs=100, validation_data=test_dataset)\n",
    "\n",
    "# We are performing mini-batch gradient descent. We also divide the test dataset into mini-batches because of\n",
    "# the following reasons :-\n",
    "\n",
    "# 1) Consistency in Data Processing: This makes sure that data is processed in the same way during both training and testing \n",
    "# phases, which can be important if the model is sensitive to batch sizes.\n",
    "# 2) Memory Efficiency: Evaluating the model on mini-batches of the test dataset requires less memory than processing the \n",
    "# entire test set at once.\n",
    "# 3) Speed: Process the data in mini-batches can be faster than processing it one sample at a time."
   ]
  },
  {
   "cell_type": "code",
   "execution_count": 79,
   "metadata": {
    "scrolled": true
   },
   "outputs": [],
   "source": [
    "# Note - The history object is an output of the .fit() operation, and provides a record of all the loss and \n",
    "# metric values in memory."
   ]
  },
  {
   "cell_type": "markdown",
   "metadata": {},
   "source": [
    "### Plotting the loss"
   ]
  },
  {
   "cell_type": "code",
   "execution_count": 80,
   "metadata": {
    "scrolled": true
   },
   "outputs": [
    {
     "data": {
      "text/plain": [
       "{'loss': [1.8305922746658325,\n",
       "  1.7926627397537231,\n",
       "  1.7867575883865356,\n",
       "  1.781075358390808,\n",
       "  1.7735270261764526,\n",
       "  1.7640783786773682,\n",
       "  1.7540699243545532,\n",
       "  1.7422616481781006,\n",
       "  1.7270005941390991,\n",
       "  1.7096738815307617,\n",
       "  1.687640905380249,\n",
       "  1.6577556133270264,\n",
       "  1.6220303773880005,\n",
       "  1.585071325302124,\n",
       "  1.5455740690231323,\n",
       "  1.5048545598983765,\n",
       "  1.4648873805999756,\n",
       "  1.425636887550354,\n",
       "  1.3868913650512695,\n",
       "  1.3483775854110718,\n",
       "  1.3128873109817505,\n",
       "  1.279641032218933,\n",
       "  1.2465453147888184,\n",
       "  1.2147774696350098,\n",
       "  1.1832376718521118,\n",
       "  1.1522852182388306,\n",
       "  1.1220747232437134,\n",
       "  1.0919338464736938,\n",
       "  1.064498782157898,\n",
       "  1.0372424125671387,\n",
       "  1.0113556385040283,\n",
       "  0.9869716167449951,\n",
       "  0.9611202478408813,\n",
       "  0.9361245632171631,\n",
       "  0.912200391292572,\n",
       "  0.8896130323410034,\n",
       "  0.8689053058624268,\n",
       "  0.8508985042572021,\n",
       "  0.8338622450828552,\n",
       "  0.8167698383331299,\n",
       "  0.8012918829917908,\n",
       "  0.7861843109130859,\n",
       "  0.7723278403282166,\n",
       "  0.7589275240898132,\n",
       "  0.745781660079956,\n",
       "  0.734201192855835,\n",
       "  0.722116231918335,\n",
       "  0.7103723287582397,\n",
       "  0.6988739967346191,\n",
       "  0.688642144203186,\n",
       "  0.6773588061332703,\n",
       "  0.6673679351806641,\n",
       "  0.6573585271835327,\n",
       "  0.6477861404418945,\n",
       "  0.6381820440292358,\n",
       "  0.6291258931159973,\n",
       "  0.6200453042984009,\n",
       "  0.6107161641120911,\n",
       "  0.6005276441574097,\n",
       "  0.5903938412666321,\n",
       "  0.5811198353767395,\n",
       "  0.5719171762466431,\n",
       "  0.5628299713134766,\n",
       "  0.5539821982383728,\n",
       "  0.5456361174583435,\n",
       "  0.5380187034606934,\n",
       "  0.5308414101600647,\n",
       "  0.5234664082527161,\n",
       "  0.5160945653915405,\n",
       "  0.5090280771255493,\n",
       "  0.5023252964019775,\n",
       "  0.49589136242866516,\n",
       "  0.48961177468299866,\n",
       "  0.4833540618419647,\n",
       "  0.47760558128356934,\n",
       "  0.47212445735931396,\n",
       "  0.46642518043518066,\n",
       "  0.4613502621650696,\n",
       "  0.4558841586112976,\n",
       "  0.45055505633354187,\n",
       "  0.4456104338169098,\n",
       "  0.4405481815338135,\n",
       "  0.43569713830947876,\n",
       "  0.43127933144569397,\n",
       "  0.4270278811454773,\n",
       "  0.4227859675884247,\n",
       "  0.41844481229782104,\n",
       "  0.41458404064178467,\n",
       "  0.4104359745979309,\n",
       "  0.4063131511211395,\n",
       "  0.40235379338264465,\n",
       "  0.3988165557384491,\n",
       "  0.3952297866344452,\n",
       "  0.39166197180747986,\n",
       "  0.38840198516845703,\n",
       "  0.38514137268066406,\n",
       "  0.381597638130188,\n",
       "  0.37854328751564026,\n",
       "  0.3757294714450836,\n",
       "  0.37297242879867554],\n",
       " 'accuracy': [0.16944444179534912,\n",
       "  0.16018518805503845,\n",
       "  0.17870371043682098,\n",
       "  0.21944443881511688,\n",
       "  0.24166665971279144,\n",
       "  0.27314814925193787,\n",
       "  0.34259259700775146,\n",
       "  0.3453703820705414,\n",
       "  0.3620370328426361,\n",
       "  0.3601851761341095,\n",
       "  0.3861111104488373,\n",
       "  0.40740740299224854,\n",
       "  0.4268518388271332,\n",
       "  0.45185184478759766,\n",
       "  0.4592592716217041,\n",
       "  0.4611110985279083,\n",
       "  0.4731481373310089,\n",
       "  0.489814817905426,\n",
       "  0.5046296119689941,\n",
       "  0.519444465637207,\n",
       "  0.529629647731781,\n",
       "  0.5453703999519348,\n",
       "  0.5592592358589172,\n",
       "  0.585185170173645,\n",
       "  0.5833333134651184,\n",
       "  0.5898148417472839,\n",
       "  0.6074073910713196,\n",
       "  0.6259258985519409,\n",
       "  0.6370370388031006,\n",
       "  0.654629647731781,\n",
       "  0.6666666865348816,\n",
       "  0.6694444417953491,\n",
       "  0.6824073791503906,\n",
       "  0.6842592358589172,\n",
       "  0.7027778029441833,\n",
       "  0.7148148417472839,\n",
       "  0.7268518805503845,\n",
       "  0.7342592477798462,\n",
       "  0.7416666746139526,\n",
       "  0.7444444298744202,\n",
       "  0.7490741014480591,\n",
       "  0.7537037134170532,\n",
       "  0.7583333253860474,\n",
       "  0.7620370388031006,\n",
       "  0.7657407522201538,\n",
       "  0.770370364189148,\n",
       "  0.7712963223457336,\n",
       "  0.7740740776062012,\n",
       "  0.7805555462837219,\n",
       "  0.7851851582527161,\n",
       "  0.7879629731178284,\n",
       "  0.7861111164093018,\n",
       "  0.7916666865348816,\n",
       "  0.800000011920929,\n",
       "  0.8027777671813965,\n",
       "  0.8046296238899231,\n",
       "  0.8055555820465088,\n",
       "  0.8018518686294556,\n",
       "  0.8055555820465088,\n",
       "  0.8074073791503906,\n",
       "  0.8120370507240295,\n",
       "  0.8157407641410828,\n",
       "  0.8175926208496094,\n",
       "  0.8231481313705444,\n",
       "  0.824999988079071,\n",
       "  0.8305555582046509,\n",
       "  0.8342592716217041,\n",
       "  0.8342592716217041,\n",
       "  0.8388888835906982,\n",
       "  0.8407407402992249,\n",
       "  0.8462963104248047,\n",
       "  0.8462963104248047,\n",
       "  0.8490740656852722,\n",
       "  0.8527777791023254,\n",
       "  0.854629635810852,\n",
       "  0.8564814925193787,\n",
       "  0.8592592477798462,\n",
       "  0.8611111044883728,\n",
       "  0.8629629611968994,\n",
       "  0.8666666746139526,\n",
       "  0.8694444298744202,\n",
       "  0.8722222447395325,\n",
       "  0.8722222447395325,\n",
       "  0.8703703880310059,\n",
       "  0.8703703880310059,\n",
       "  0.8694444298744202,\n",
       "  0.8712962865829468,\n",
       "  0.8703703880310059,\n",
       "  0.8703703880310059,\n",
       "  0.8722222447395325,\n",
       "  0.8740741014480591,\n",
       "  0.875,\n",
       "  0.8759258985519409,\n",
       "  0.875,\n",
       "  0.875,\n",
       "  0.8759258985519409,\n",
       "  0.8759258985519409,\n",
       "  0.8759258985519409,\n",
       "  0.8759258985519409,\n",
       "  0.8768518567085266],\n",
       " 'val_loss': [1.790368676185608,\n",
       "  1.7864280939102173,\n",
       "  1.7817679643630981,\n",
       "  1.77179753780365,\n",
       "  1.7632744312286377,\n",
       "  1.7542027235031128,\n",
       "  1.7421963214874268,\n",
       "  1.7274450063705444,\n",
       "  1.710822582244873,\n",
       "  1.6910862922668457,\n",
       "  1.6669408082962036,\n",
       "  1.631526231765747,\n",
       "  1.5910176038742065,\n",
       "  1.5516072511672974,\n",
       "  1.5104632377624512,\n",
       "  1.4669476747512817,\n",
       "  1.4231613874435425,\n",
       "  1.3853851556777954,\n",
       "  1.3472615480422974,\n",
       "  1.3104126453399658,\n",
       "  1.2757986783981323,\n",
       "  1.2431813478469849,\n",
       "  1.2114863395690918,\n",
       "  1.1809223890304565,\n",
       "  1.1468660831451416,\n",
       "  1.1142634153366089,\n",
       "  1.085411787033081,\n",
       "  1.059049367904663,\n",
       "  1.0314030647277832,\n",
       "  1.0038481950759888,\n",
       "  0.9797728061676025,\n",
       "  0.9560739398002625,\n",
       "  0.932607114315033,\n",
       "  0.9090822339057922,\n",
       "  0.8875324726104736,\n",
       "  0.8684682846069336,\n",
       "  0.8516190648078918,\n",
       "  0.8357192873954773,\n",
       "  0.8206512331962585,\n",
       "  0.8067340850830078,\n",
       "  0.7913190126419067,\n",
       "  0.7785747647285461,\n",
       "  0.7653610110282898,\n",
       "  0.7535504698753357,\n",
       "  0.7426925897598267,\n",
       "  0.7310049533843994,\n",
       "  0.719131350517273,\n",
       "  0.7091691493988037,\n",
       "  0.697857141494751,\n",
       "  0.6882268190383911,\n",
       "  0.6781758666038513,\n",
       "  0.6688657402992249,\n",
       "  0.6582834720611572,\n",
       "  0.649725079536438,\n",
       "  0.6399269700050354,\n",
       "  0.6310751438140869,\n",
       "  0.6231804490089417,\n",
       "  0.6159245371818542,\n",
       "  0.6088469624519348,\n",
       "  0.6024068593978882,\n",
       "  0.5952281951904297,\n",
       "  0.5887879133224487,\n",
       "  0.5830143094062805,\n",
       "  0.5773391723632812,\n",
       "  0.5706749558448792,\n",
       "  0.5656653046607971,\n",
       "  0.5593851208686829,\n",
       "  0.5533130764961243,\n",
       "  0.5473372936248779,\n",
       "  0.5423492193222046,\n",
       "  0.5370177030563354,\n",
       "  0.5321481227874756,\n",
       "  0.526772677898407,\n",
       "  0.5216594934463501,\n",
       "  0.5170750021934509,\n",
       "  0.512850821018219,\n",
       "  0.5091882944107056,\n",
       "  0.5063397884368896,\n",
       "  0.5041355490684509,\n",
       "  0.5005248785018921,\n",
       "  0.4974766969680786,\n",
       "  0.49441269040107727,\n",
       "  0.4915471374988556,\n",
       "  0.4884040653705597,\n",
       "  0.48581963777542114,\n",
       "  0.48266780376434326,\n",
       "  0.4798717498779297,\n",
       "  0.4778003692626953,\n",
       "  0.47498589754104614,\n",
       "  0.4715253710746765,\n",
       "  0.46938860416412354,\n",
       "  0.46703702211380005,\n",
       "  0.46408742666244507,\n",
       "  0.4619852602481842,\n",
       "  0.4603685140609741,\n",
       "  0.45860955119132996,\n",
       "  0.4561534821987152,\n",
       "  0.4538199305534363,\n",
       "  0.45274850726127625,\n",
       "  0.45125430822372437],\n",
       " 'val_accuracy': [0.18333333730697632,\n",
       "  0.18333333730697632,\n",
       "  0.19166666269302368,\n",
       "  0.2083333283662796,\n",
       "  0.23333333432674408,\n",
       "  0.2750000059604645,\n",
       "  0.3583333194255829,\n",
       "  0.3583333194255829,\n",
       "  0.3583333194255829,\n",
       "  0.38333332538604736,\n",
       "  0.40833333134651184,\n",
       "  0.44999998807907104,\n",
       "  0.4166666567325592,\n",
       "  0.44999998807907104,\n",
       "  0.44999998807907104,\n",
       "  0.5,\n",
       "  0.5166666507720947,\n",
       "  0.5249999761581421,\n",
       "  0.5166666507720947,\n",
       "  0.5416666865348816,\n",
       "  0.5416666865348816,\n",
       "  0.5583333373069763,\n",
       "  0.5666666626930237,\n",
       "  0.5666666626930237,\n",
       "  0.550000011920929,\n",
       "  0.5583333373069763,\n",
       "  0.574999988079071,\n",
       "  0.5666666626930237,\n",
       "  0.5833333134651184,\n",
       "  0.625,\n",
       "  0.625,\n",
       "  0.6333333253860474,\n",
       "  0.6333333253860474,\n",
       "  0.675000011920929,\n",
       "  0.6666666865348816,\n",
       "  0.6833333373069763,\n",
       "  0.675000011920929,\n",
       "  0.675000011920929,\n",
       "  0.675000011920929,\n",
       "  0.6916666626930237,\n",
       "  0.699999988079071,\n",
       "  0.699999988079071,\n",
       "  0.699999988079071,\n",
       "  0.699999988079071,\n",
       "  0.7083333134651184,\n",
       "  0.7083333134651184,\n",
       "  0.7333333492279053,\n",
       "  0.7166666388511658,\n",
       "  0.7250000238418579,\n",
       "  0.7416666746139526,\n",
       "  0.7416666746139526,\n",
       "  0.7416666746139526,\n",
       "  0.7583333253860474,\n",
       "  0.7666666507720947,\n",
       "  0.7666666507720947,\n",
       "  0.7666666507720947,\n",
       "  0.7666666507720947,\n",
       "  0.7666666507720947,\n",
       "  0.7666666507720947,\n",
       "  0.7666666507720947,\n",
       "  0.7583333253860474,\n",
       "  0.7666666507720947,\n",
       "  0.7666666507720947,\n",
       "  0.7833333611488342,\n",
       "  0.7749999761581421,\n",
       "  0.7833333611488342,\n",
       "  0.7833333611488342,\n",
       "  0.7833333611488342,\n",
       "  0.7916666865348816,\n",
       "  0.800000011920929,\n",
       "  0.800000011920929,\n",
       "  0.800000011920929,\n",
       "  0.800000011920929,\n",
       "  0.800000011920929,\n",
       "  0.800000011920929,\n",
       "  0.800000011920929,\n",
       "  0.800000011920929,\n",
       "  0.800000011920929,\n",
       "  0.800000011920929,\n",
       "  0.800000011920929,\n",
       "  0.8083333373069763,\n",
       "  0.8083333373069763,\n",
       "  0.8083333373069763,\n",
       "  0.8083333373069763,\n",
       "  0.8083333373069763,\n",
       "  0.8083333373069763,\n",
       "  0.8166666626930237,\n",
       "  0.8166666626930237,\n",
       "  0.824999988079071,\n",
       "  0.8166666626930237,\n",
       "  0.824999988079071,\n",
       "  0.824999988079071,\n",
       "  0.824999988079071,\n",
       "  0.824999988079071,\n",
       "  0.824999988079071,\n",
       "  0.824999988079071,\n",
       "  0.824999988079071,\n",
       "  0.824999988079071,\n",
       "  0.824999988079071,\n",
       "  0.824999988079071]}"
      ]
     },
     "execution_count": 80,
     "metadata": {},
     "output_type": "execute_result"
    }
   ],
   "source": [
    "history.history"
   ]
  },
  {
   "cell_type": "code",
   "execution_count": 81,
   "metadata": {
    "scrolled": false
   },
   "outputs": [
    {
     "data": {
      "text/plain": [
       "[Text(0, 0.5, 'Accuracy'), Text(0.5, 0, 'Epoch')]"
      ]
     },
     "execution_count": 81,
     "metadata": {},
     "output_type": "execute_result"
    },
    {
     "data": {
      "image/png": "[encoded data removed]",
      "text/plain": [
       "<Figure size 864x576 with 1 Axes>"
      ]
     },
     "metadata": {
      "needs_background": "light"
     },
     "output_type": "display_data"
    },
    {
     "data": {
      "image/png": "[encoded data removed]",
      "text/plain": [
       "<Figure size 864x576 with 1 Axes>"
      ]
     },
     "metadata": {
      "needs_background": "light"
     },
     "output_type": "display_data"
    }
   ],
   "source": [
    "# The history.history[\"loss\"] entry is a dictionary with as many values as epochs that the\n",
    "# model was trained on. \n",
    "df_loss_acc = pd.DataFrame(history.history)\n",
    "df_loss= df_loss_acc[['loss','val_loss']]\n",
    "df_loss.rename(columns={'loss':'train','val_loss':'validation'},inplace=True)\n",
    "df_acc= df_loss_acc[['accuracy','val_accuracy']]\n",
    "df_acc.rename(columns={'accuracy':'train','val_accuracy':'validation'},inplace=True)\n",
    "df_loss.plot(title='Model loss',figsize=(12,8)).set(xlabel='Epoch',ylabel='Loss')\n",
    "df_acc.plot(title='Model Accuracy',figsize=(12,8)).set(xlabel='Epoch',ylabel='Accuracy')"
   ]
  }
 ],
 "metadata": {
  "coursera": {
   "course_slug": "convolutional-neural-networks",
   "graded_item_id": "bwbJV",
   "launcher_item_id": "0TkXB"
  },
  "kernelspec": {
   "display_name": "Python 3",
   "language": "python",
   "name": "python3"
  },
  "language_info": {
   "codemirror_mode": {
    "name": "ipython",
    "version": 3
   },
   "file_extension": ".py",
   "mimetype": "text/x-python",
   "name": "python",
   "nbconvert_exporter": "python",
   "pygments_lexer": "ipython3",
   "version": "3.7.6"
  }
 },
 "nbformat": 4,
 "nbformat_minor": 2
}
